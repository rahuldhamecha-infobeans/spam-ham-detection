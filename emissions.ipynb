{
 "cells": [
  {
   "cell_type": "code",
   "execution_count": 61,
   "id": "initial_id",
   "metadata": {
    "collapsed": true,
    "ExecuteTime": {
     "end_time": "2023-11-07T06:02:12.713688135Z",
     "start_time": "2023-11-07T06:02:12.671430801Z"
    }
   },
   "outputs": [],
   "source": [
    "import pandas as pd\n",
    "import numpy as np"
   ]
  },
  {
   "cell_type": "code",
   "execution_count": 62,
   "outputs": [],
   "source": [
    "data = pd.read_csv('emissions-test.csv')"
   ],
   "metadata": {
    "collapsed": false,
    "ExecuteTime": {
     "end_time": "2023-11-07T06:02:13.627081884Z",
     "start_time": "2023-11-07T06:02:13.569550617Z"
    }
   },
   "id": "713c123912c5802e"
  },
  {
   "cell_type": "code",
   "execution_count": 63,
   "outputs": [
    {
     "data": {
      "text/plain": "             timestamp project_name                                run_id  \\\n0  2023-11-02T13:34:33    test_demo  eddc4fa3-dc58-4fa9-9de8-3366878e1713   \n1  2023-11-02T13:53:01    test_demo  b006b85a-71b6-4da4-b35f-d684fbd84eac   \n2  2023-11-02T16:18:02   codecarbon  5ecfae29-847f-4fb9-92ac-95ce2955ecc3   \n3  2023-11-02T16:28:58   codecarbon  07923792-6c4d-4cf8-aa41-993510f1b811   \n4  2023-11-02T16:41:44   codecarbon  4e23263a-d49c-4175-a4cf-3509a1715ca4   \n5  2023-11-02T17:08:10   codecarbon  6a08688a-4623-4050-bae9-9d5affe8dd72   \n6  2023-11-02T17:11:20   codecarbon  4c525474-1f76-45f7-a77d-2916ac648ec8   \n7  2023-11-02T17:19:12   codecarbon  8b40b7d2-b432-44f1-9926-ab8d52c990a0   \n8  2023-11-03T11:33:43   codecarbon  87f73d4f-9646-40b7-a0f7-debb5d82e739   \n\n   duration     emissions  emissions_rate  cpu_power  gpu_power  ram_power  \\\n0  0.002404  1.191410e-11    4.956003e-09        7.5          0   7.229442   \n1  0.001822  2.517492e-09    1.381542e-06        7.5          0   7.229442   \n2  0.000955  1.380772e-09    1.445676e-06        7.5          0   7.229442   \n3  0.001179  1.623846e-09    1.377053e-06        7.5          0   7.229442   \n4  0.000760  1.137007e-09    1.496377e-06        7.5          0   7.229442   \n5  0.000866  1.220583e-09    1.409941e-06        7.5          0   7.229442   \n6  0.000760  1.137273e-09    1.496727e-06        7.5          0   7.229442   \n7  0.000690  5.000000e+01    1.518832e-06        7.5          0   7.229442   \n8  0.004959  8.000000e+01    1.428608e-06        7.5          0   7.229442   \n\n     cpu_energy  ...  cpu_count                                 cpu_model  \\\n0  3.751616e-09  ...          4  Intel(R) Core(TM) i7-7600U CPU @ 2.80GHz   \n1  2.920628e-09  ...          4  Intel(R) Core(TM) i7-7600U CPU @ 2.80GHz   \n2  1.539787e-09  ...          4  Intel(R) Core(TM) i7-7600U CPU @ 2.80GHz   \n3  1.908342e-09  ...          4  Intel(R) Core(TM) i7-7600U CPU @ 2.80GHz   \n4  1.260638e-09  ...          4  Intel(R) Core(TM) i7-7600U CPU @ 2.80GHz   \n5  1.339614e-09  ...          4  Intel(R) Core(TM) i7-7600U CPU @ 2.80GHz   \n6  1.285474e-09  ...          4  Intel(R) Core(TM) i7-7600U CPU @ 2.80GHz   \n7  4.000000e+01  ...          4  Intel(R) Core(TM) i7-7600U CPU @ 2.80GHz   \n8  2.000000e+01  ...          4  Intel(R) Core(TM) i7-7600U CPU @ 2.80GHz   \n\n   gpu_count gpu_model longitude latitude  ram_total_size  tracking_mode  \\\n0        NaN       NaN  -71.2000  46.8000       19.278511        machine   \n1        NaN       NaN   72.8293  21.1888       19.278511        machine   \n2        NaN       NaN       NaN      NaN       19.278511        machine   \n3        NaN       NaN       NaN      NaN       19.278511        machine   \n4        NaN       NaN       NaN      NaN       19.278511        machine   \n5        NaN       NaN       NaN      NaN       19.278511        machine   \n6        NaN       NaN       NaN      NaN       19.278511        machine   \n7        NaN       NaN       NaN      NaN       19.278511        machine   \n8        NaN       NaN   73.2043  22.3008       19.278511        machine   \n\n  on_cloud pue  \n0        N   1  \n1        N   1  \n2        N   1  \n3        N   1  \n4        N   1  \n5        N   1  \n6        N   1  \n7        N   1  \n8        N   1  \n\n[9 rows x 31 columns]",
      "text/html": "<div>\n<style scoped>\n    .dataframe tbody tr th:only-of-type {\n        vertical-align: middle;\n    }\n\n    .dataframe tbody tr th {\n        vertical-align: top;\n    }\n\n    .dataframe thead th {\n        text-align: right;\n    }\n</style>\n<table border=\"1\" class=\"dataframe\">\n  <thead>\n    <tr style=\"text-align: right;\">\n      <th></th>\n      <th>timestamp</th>\n      <th>project_name</th>\n      <th>run_id</th>\n      <th>duration</th>\n      <th>emissions</th>\n      <th>emissions_rate</th>\n      <th>cpu_power</th>\n      <th>gpu_power</th>\n      <th>ram_power</th>\n      <th>cpu_energy</th>\n      <th>...</th>\n      <th>cpu_count</th>\n      <th>cpu_model</th>\n      <th>gpu_count</th>\n      <th>gpu_model</th>\n      <th>longitude</th>\n      <th>latitude</th>\n      <th>ram_total_size</th>\n      <th>tracking_mode</th>\n      <th>on_cloud</th>\n      <th>pue</th>\n    </tr>\n  </thead>\n  <tbody>\n    <tr>\n      <th>0</th>\n      <td>2023-11-02T13:34:33</td>\n      <td>test_demo</td>\n      <td>eddc4fa3-dc58-4fa9-9de8-3366878e1713</td>\n      <td>0.002404</td>\n      <td>1.191410e-11</td>\n      <td>4.956003e-09</td>\n      <td>7.5</td>\n      <td>0</td>\n      <td>7.229442</td>\n      <td>3.751616e-09</td>\n      <td>...</td>\n      <td>4</td>\n      <td>Intel(R) Core(TM) i7-7600U CPU @ 2.80GHz</td>\n      <td>NaN</td>\n      <td>NaN</td>\n      <td>-71.2000</td>\n      <td>46.8000</td>\n      <td>19.278511</td>\n      <td>machine</td>\n      <td>N</td>\n      <td>1</td>\n    </tr>\n    <tr>\n      <th>1</th>\n      <td>2023-11-02T13:53:01</td>\n      <td>test_demo</td>\n      <td>b006b85a-71b6-4da4-b35f-d684fbd84eac</td>\n      <td>0.001822</td>\n      <td>2.517492e-09</td>\n      <td>1.381542e-06</td>\n      <td>7.5</td>\n      <td>0</td>\n      <td>7.229442</td>\n      <td>2.920628e-09</td>\n      <td>...</td>\n      <td>4</td>\n      <td>Intel(R) Core(TM) i7-7600U CPU @ 2.80GHz</td>\n      <td>NaN</td>\n      <td>NaN</td>\n      <td>72.8293</td>\n      <td>21.1888</td>\n      <td>19.278511</td>\n      <td>machine</td>\n      <td>N</td>\n      <td>1</td>\n    </tr>\n    <tr>\n      <th>2</th>\n      <td>2023-11-02T16:18:02</td>\n      <td>codecarbon</td>\n      <td>5ecfae29-847f-4fb9-92ac-95ce2955ecc3</td>\n      <td>0.000955</td>\n      <td>1.380772e-09</td>\n      <td>1.445676e-06</td>\n      <td>7.5</td>\n      <td>0</td>\n      <td>7.229442</td>\n      <td>1.539787e-09</td>\n      <td>...</td>\n      <td>4</td>\n      <td>Intel(R) Core(TM) i7-7600U CPU @ 2.80GHz</td>\n      <td>NaN</td>\n      <td>NaN</td>\n      <td>NaN</td>\n      <td>NaN</td>\n      <td>19.278511</td>\n      <td>machine</td>\n      <td>N</td>\n      <td>1</td>\n    </tr>\n    <tr>\n      <th>3</th>\n      <td>2023-11-02T16:28:58</td>\n      <td>codecarbon</td>\n      <td>07923792-6c4d-4cf8-aa41-993510f1b811</td>\n      <td>0.001179</td>\n      <td>1.623846e-09</td>\n      <td>1.377053e-06</td>\n      <td>7.5</td>\n      <td>0</td>\n      <td>7.229442</td>\n      <td>1.908342e-09</td>\n      <td>...</td>\n      <td>4</td>\n      <td>Intel(R) Core(TM) i7-7600U CPU @ 2.80GHz</td>\n      <td>NaN</td>\n      <td>NaN</td>\n      <td>NaN</td>\n      <td>NaN</td>\n      <td>19.278511</td>\n      <td>machine</td>\n      <td>N</td>\n      <td>1</td>\n    </tr>\n    <tr>\n      <th>4</th>\n      <td>2023-11-02T16:41:44</td>\n      <td>codecarbon</td>\n      <td>4e23263a-d49c-4175-a4cf-3509a1715ca4</td>\n      <td>0.000760</td>\n      <td>1.137007e-09</td>\n      <td>1.496377e-06</td>\n      <td>7.5</td>\n      <td>0</td>\n      <td>7.229442</td>\n      <td>1.260638e-09</td>\n      <td>...</td>\n      <td>4</td>\n      <td>Intel(R) Core(TM) i7-7600U CPU @ 2.80GHz</td>\n      <td>NaN</td>\n      <td>NaN</td>\n      <td>NaN</td>\n      <td>NaN</td>\n      <td>19.278511</td>\n      <td>machine</td>\n      <td>N</td>\n      <td>1</td>\n    </tr>\n    <tr>\n      <th>5</th>\n      <td>2023-11-02T17:08:10</td>\n      <td>codecarbon</td>\n      <td>6a08688a-4623-4050-bae9-9d5affe8dd72</td>\n      <td>0.000866</td>\n      <td>1.220583e-09</td>\n      <td>1.409941e-06</td>\n      <td>7.5</td>\n      <td>0</td>\n      <td>7.229442</td>\n      <td>1.339614e-09</td>\n      <td>...</td>\n      <td>4</td>\n      <td>Intel(R) Core(TM) i7-7600U CPU @ 2.80GHz</td>\n      <td>NaN</td>\n      <td>NaN</td>\n      <td>NaN</td>\n      <td>NaN</td>\n      <td>19.278511</td>\n      <td>machine</td>\n      <td>N</td>\n      <td>1</td>\n    </tr>\n    <tr>\n      <th>6</th>\n      <td>2023-11-02T17:11:20</td>\n      <td>codecarbon</td>\n      <td>4c525474-1f76-45f7-a77d-2916ac648ec8</td>\n      <td>0.000760</td>\n      <td>1.137273e-09</td>\n      <td>1.496727e-06</td>\n      <td>7.5</td>\n      <td>0</td>\n      <td>7.229442</td>\n      <td>1.285474e-09</td>\n      <td>...</td>\n      <td>4</td>\n      <td>Intel(R) Core(TM) i7-7600U CPU @ 2.80GHz</td>\n      <td>NaN</td>\n      <td>NaN</td>\n      <td>NaN</td>\n      <td>NaN</td>\n      <td>19.278511</td>\n      <td>machine</td>\n      <td>N</td>\n      <td>1</td>\n    </tr>\n    <tr>\n      <th>7</th>\n      <td>2023-11-02T17:19:12</td>\n      <td>codecarbon</td>\n      <td>8b40b7d2-b432-44f1-9926-ab8d52c990a0</td>\n      <td>0.000690</td>\n      <td>5.000000e+01</td>\n      <td>1.518832e-06</td>\n      <td>7.5</td>\n      <td>0</td>\n      <td>7.229442</td>\n      <td>4.000000e+01</td>\n      <td>...</td>\n      <td>4</td>\n      <td>Intel(R) Core(TM) i7-7600U CPU @ 2.80GHz</td>\n      <td>NaN</td>\n      <td>NaN</td>\n      <td>NaN</td>\n      <td>NaN</td>\n      <td>19.278511</td>\n      <td>machine</td>\n      <td>N</td>\n      <td>1</td>\n    </tr>\n    <tr>\n      <th>8</th>\n      <td>2023-11-03T11:33:43</td>\n      <td>codecarbon</td>\n      <td>87f73d4f-9646-40b7-a0f7-debb5d82e739</td>\n      <td>0.004959</td>\n      <td>8.000000e+01</td>\n      <td>1.428608e-06</td>\n      <td>7.5</td>\n      <td>0</td>\n      <td>7.229442</td>\n      <td>2.000000e+01</td>\n      <td>...</td>\n      <td>4</td>\n      <td>Intel(R) Core(TM) i7-7600U CPU @ 2.80GHz</td>\n      <td>NaN</td>\n      <td>NaN</td>\n      <td>73.2043</td>\n      <td>22.3008</td>\n      <td>19.278511</td>\n      <td>machine</td>\n      <td>N</td>\n      <td>1</td>\n    </tr>\n  </tbody>\n</table>\n<p>9 rows × 31 columns</p>\n</div>"
     },
     "execution_count": 63,
     "metadata": {},
     "output_type": "execute_result"
    }
   ],
   "source": [
    "data"
   ],
   "metadata": {
    "collapsed": false,
    "ExecuteTime": {
     "end_time": "2023-11-07T06:02:14.591661529Z",
     "start_time": "2023-11-07T06:02:14.487360579Z"
    }
   },
   "id": "1e96b570b8ba4173"
  },
  {
   "cell_type": "code",
   "execution_count": 64,
   "outputs": [],
   "source": [
    "project_names = data[data['project_name'] == 'codecarbon']"
   ],
   "metadata": {
    "collapsed": false,
    "ExecuteTime": {
     "end_time": "2023-11-07T06:02:17.789770466Z",
     "start_time": "2023-11-07T06:02:17.766913339Z"
    }
   },
   "id": "8c34b3185ea1e3b9"
  },
  {
   "cell_type": "code",
   "execution_count": 65,
   "outputs": [
    {
     "data": {
      "text/plain": "110.00000002296485"
     },
     "execution_count": 65,
     "metadata": {},
     "output_type": "execute_result"
    }
   ],
   "source": [
    "project_names['energy_consumed'].sum()"
   ],
   "metadata": {
    "collapsed": false,
    "ExecuteTime": {
     "end_time": "2023-11-07T06:02:18.446607335Z",
     "start_time": "2023-11-07T06:02:18.422300657Z"
    }
   },
   "id": "eae3b6ab76a987d1"
  },
  {
   "cell_type": "code",
   "execution_count": 66,
   "outputs": [
    {
     "data": {
      "text/plain": "80.0000000070846"
     },
     "execution_count": 66,
     "metadata": {},
     "output_type": "execute_result"
    }
   ],
   "source": [
    "project_names['emissions'][project_names['emissions'].tail(1).index].to_numpy()[0]"
   ],
   "metadata": {
    "collapsed": false,
    "ExecuteTime": {
     "end_time": "2023-11-07T06:02:19.411269353Z",
     "start_time": "2023-11-07T06:02:19.356125303Z"
    }
   },
   "id": "c4e09efbec62c17d"
  },
  {
   "cell_type": "code",
   "execution_count": 67,
   "outputs": [
    {
     "data": {
      "text/plain": "60.0000000111187"
     },
     "execution_count": 67,
     "metadata": {},
     "output_type": "execute_result"
    }
   ],
   "source": [
    "project_names['energy_consumed'][project_names['energy_consumed'].tail(1).index].to_numpy()[0]"
   ],
   "metadata": {
    "collapsed": false,
    "ExecuteTime": {
     "end_time": "2023-11-07T06:02:20.048197016Z",
     "start_time": "2023-11-07T06:02:20.037958241Z"
    }
   },
   "id": "44e94f99d0dd12dd"
  },
  {
   "cell_type": "code",
   "execution_count": 68,
   "outputs": [],
   "source": [
    "total_carbon = project_names['emissions'].sum()\n",
    "last_carbon_used = project_names['emissions'][project_names['emissions'].tail(1).index].to_numpy()[0]\n",
    "\n",
    "total_energy_consumed = project_names['energy_consumed'].sum()\n",
    "last_energy_consumed = project_names['energy_consumed'][project_names['energy_consumed'].tail(1).index].to_numpy()[0]\n"
   ],
   "metadata": {
    "collapsed": false,
    "ExecuteTime": {
     "end_time": "2023-11-07T06:02:20.688532624Z",
     "start_time": "2023-11-07T06:02:20.677989707Z"
    }
   },
   "id": "dafac14cc9982e91"
  },
  {
   "cell_type": "code",
   "execution_count": 69,
   "outputs": [
    {
     "data": {
      "text/plain": "'60.00'"
     },
     "execution_count": 69,
     "metadata": {},
     "output_type": "execute_result"
    }
   ],
   "source": [
    "\"{:.2f}\".format(last_energy_consumed)"
   ],
   "metadata": {
    "collapsed": false,
    "ExecuteTime": {
     "end_time": "2023-11-07T06:02:21.222567049Z",
     "start_time": "2023-11-07T06:02:21.180106647Z"
    }
   },
   "id": "940e23bec40206dc"
  },
  {
   "cell_type": "code",
   "execution_count": 70,
   "outputs": [],
   "source": [],
   "metadata": {
    "collapsed": false,
    "ExecuteTime": {
     "end_time": "2023-11-07T06:03:20.478546391Z",
     "start_time": "2023-11-07T06:03:20.436607978Z"
    }
   },
   "id": "27328c7c601c11f8"
  },
  {
   "cell_type": "code",
   "execution_count": 74,
   "outputs": [],
   "source": [
    "dd = project_names.to_dict(orient='records')"
   ],
   "metadata": {
    "collapsed": false,
    "ExecuteTime": {
     "end_time": "2023-11-07T06:04:46.830696457Z",
     "start_time": "2023-11-07T06:04:46.787782766Z"
    }
   },
   "id": "1d1af3119b3be775"
  },
  {
   "cell_type": "code",
   "execution_count": 75,
   "outputs": [
    {
     "data": {
      "text/plain": "[{'timestamp': '2023-11-02T16:18:02',\n  'project_name': 'codecarbon',\n  'run_id': '5ecfae29-847f-4fb9-92ac-95ce2955ecc3',\n  'duration': 0.000955104827881,\n  'emissions': 1.38077188274009e-09,\n  'emissions_rate': 1.44567574409992e-06,\n  'cpu_power': 7.5,\n  'gpu_power': 0,\n  'ram_power': 7.22944164276123,\n  'cpu_energy': 1.53978665669759e-09,\n  'gpu_energy': 0,\n  'ram_energy': 6.27210971515523e-10,\n  'energy_consumed': 2.1669976282131204e-09,\n  'country_name': 'India',\n  'country_iso_code': 'IND',\n  'region': nan,\n  'cloud_provider': nan,\n  'cloud_region': nan,\n  'os': 'Linux-5.15.0-83-generic-x86_64-with-glibc2.31',\n  'python_version': '3.11.5',\n  'codecarbon_version': '2.3.1',\n  'cpu_count': 4,\n  'cpu_model': 'Intel(R) Core(TM) i7-7600U CPU @ 2.80GHz',\n  'gpu_count': nan,\n  'gpu_model': nan,\n  'longitude': nan,\n  'latitude': nan,\n  'ram_total_size': 19.2785110473633,\n  'tracking_mode': 'machine',\n  'on_cloud': 'N',\n  'pue': 1},\n {'timestamp': '2023-11-02T16:28:58',\n  'project_name': 'codecarbon',\n  'run_id': '07923792-6c4d-4cf8-aa41-993510f1b811',\n  'duration': 0.001179218292236,\n  'emissions': 1.6238457516432801e-09,\n  'emissions_rate': 1.37705271562888e-06,\n  'cpu_power': 7.5,\n  'gpu_power': 0,\n  'ram_power': 7.22944164276123,\n  'cpu_energy': 1.90834204355876e-09,\n  'gpu_energy': 0,\n  'ram_energy': 6.40138220546759e-10,\n  'energy_consumed': 2.54848026410552e-09,\n  'country_name': 'India',\n  'country_iso_code': 'IND',\n  'region': nan,\n  'cloud_provider': nan,\n  'cloud_region': nan,\n  'os': 'Linux-5.15.0-83-generic-x86_64-with-glibc2.31',\n  'python_version': '3.11.5',\n  'codecarbon_version': '2.3.1',\n  'cpu_count': 4,\n  'cpu_model': 'Intel(R) Core(TM) i7-7600U CPU @ 2.80GHz',\n  'gpu_count': nan,\n  'gpu_model': nan,\n  'longitude': nan,\n  'latitude': nan,\n  'ram_total_size': 19.2785110473633,\n  'tracking_mode': 'machine',\n  'on_cloud': 'N',\n  'pue': 1},\n {'timestamp': '2023-11-02T16:41:44',\n  'project_name': 'codecarbon',\n  'run_id': '4e23263a-d49c-4175-a4cf-3509a1715ca4',\n  'duration': 0.000759840011597,\n  'emissions': 1.13700745124226e-09,\n  'emissions_rate': 1.49637743984161e-06,\n  'cpu_power': 7.5,\n  'gpu_power': 0,\n  'ram_power': 7.22944164276123,\n  'cpu_energy': 1.2606382369995102e-09,\n  'gpu_energy': 0,\n  'ram_energy': 5.23792979265636e-10,\n  'energy_consumed': 1.7844312162651501e-09,\n  'country_name': 'India',\n  'country_iso_code': 'IND',\n  'region': nan,\n  'cloud_provider': nan,\n  'cloud_region': nan,\n  'os': 'Linux-5.15.0-83-generic-x86_64-with-glibc2.31',\n  'python_version': '3.11.5',\n  'codecarbon_version': '2.3.1',\n  'cpu_count': 4,\n  'cpu_model': 'Intel(R) Core(TM) i7-7600U CPU @ 2.80GHz',\n  'gpu_count': nan,\n  'gpu_model': nan,\n  'longitude': nan,\n  'latitude': nan,\n  'ram_total_size': 19.2785110473633,\n  'tracking_mode': 'machine',\n  'on_cloud': 'N',\n  'pue': 1},\n {'timestamp': '2023-11-02T17:08:10',\n  'project_name': 'codecarbon',\n  'run_id': '6a08688a-4623-4050-bae9-9d5affe8dd72',\n  'duration': 0.000865697860718,\n  'emissions': 1.2205827512367502e-09,\n  'emissions_rate': 1.40994081956577e-06,\n  'cpu_power': 7.5,\n  'gpu_power': 0,\n  'ram_power': 7.22944164276123,\n  'cpu_energy': 1.3396143913269e-09,\n  'gpu_energy': 0,\n  'ram_energy': 5.75980762391737e-10,\n  'energy_consumed': 1.91559515371864e-09,\n  'country_name': 'India',\n  'country_iso_code': 'IND',\n  'region': nan,\n  'cloud_provider': nan,\n  'cloud_region': nan,\n  'os': 'Linux-5.15.0-83-generic-x86_64-with-glibc2.31',\n  'python_version': '3.11.5',\n  'codecarbon_version': '2.3.1',\n  'cpu_count': 4,\n  'cpu_model': 'Intel(R) Core(TM) i7-7600U CPU @ 2.80GHz',\n  'gpu_count': nan,\n  'gpu_model': nan,\n  'longitude': nan,\n  'latitude': nan,\n  'ram_total_size': 19.2785110473633,\n  'tracking_mode': 'machine',\n  'on_cloud': 'N',\n  'pue': 1},\n {'timestamp': '2023-11-02T17:11:20',\n  'project_name': 'codecarbon',\n  'run_id': '4c525474-1f76-45f7-a77d-2916ac648ec8',\n  'duration': 0.000759840011597,\n  'emissions': 1.1372732399877601e-09,\n  'emissions_rate': 1.49672723551102e-06,\n  'cpu_power': 7.5,\n  'gpu_power': 0,\n  'ram_power': 7.22944164276123,\n  'cpu_energy': 1.28547350565592e-09,\n  'gpu_energy': 0,\n  'ram_energy': 4.99374842206634e-10,\n  'energy_consumed': 1.7848483478625601e-09,\n  'country_name': 'India',\n  'country_iso_code': 'IND',\n  'region': nan,\n  'cloud_provider': nan,\n  'cloud_region': nan,\n  'os': 'Linux-5.15.0-83-generic-x86_64-with-glibc2.31',\n  'python_version': '3.11.5',\n  'codecarbon_version': '2.3.1',\n  'cpu_count': 4,\n  'cpu_model': 'Intel(R) Core(TM) i7-7600U CPU @ 2.80GHz',\n  'gpu_count': nan,\n  'gpu_model': nan,\n  'longitude': nan,\n  'latitude': nan,\n  'ram_total_size': 19.2785110473633,\n  'tracking_mode': 'machine',\n  'on_cloud': 'N',\n  'pue': 1},\n {'timestamp': '2023-11-02T17:19:12',\n  'project_name': 'codecarbon',\n  'run_id': '8b40b7d2-b432-44f1-9926-ab8d52c990a0',\n  'duration': 0.000690460205078,\n  'emissions': 50.0000000010487,\n  'emissions_rate': 1.51883192294311e-06,\n  'cpu_power': 7.5,\n  'gpu_power': 0,\n  'ram_power': 7.22944164276123,\n  'cpu_energy': 40.0000000011613,\n  'gpu_energy': 0,\n  'ram_energy': 70.0000000004845,\n  'energy_consumed': 50.0000000016458,\n  'country_name': 'India',\n  'country_iso_code': 'IND',\n  'region': nan,\n  'cloud_provider': nan,\n  'cloud_region': nan,\n  'os': 'Linux-5.15.0-83-generic-x86_64-with-glibc2.31',\n  'python_version': '3.11.5',\n  'codecarbon_version': '2.3.1',\n  'cpu_count': 4,\n  'cpu_model': 'Intel(R) Core(TM) i7-7600U CPU @ 2.80GHz',\n  'gpu_count': nan,\n  'gpu_model': nan,\n  'longitude': nan,\n  'latitude': nan,\n  'ram_total_size': 19.2785110473633,\n  'tracking_mode': 'machine',\n  'on_cloud': 'N',\n  'pue': 1},\n {'timestamp': '2023-11-03T11:33:43',\n  'project_name': 'codecarbon',\n  'run_id': '87f73d4f-9646-40b7-a0f7-debb5d82e739',\n  'duration': 0.004959106445313,\n  'emissions': 80.0000000070846,\n  'emissions_rate': 1.42860839625008e-06,\n  'cpu_power': 7.5,\n  'gpu_power': 0,\n  'ram_power': 7.22944164276123,\n  'cpu_energy': 20.000000008741,\n  'gpu_energy': 0,\n  'ram_energy': 50.0000000023777,\n  'energy_consumed': 60.0000000111187,\n  'country_name': 'India',\n  'country_iso_code': 'IND',\n  'region': 'gujarat',\n  'cloud_provider': nan,\n  'cloud_region': nan,\n  'os': 'Linux-5.15.0-83-generic-x86_64-with-glibc2.31',\n  'python_version': '3.11.5',\n  'codecarbon_version': '2.3.1',\n  'cpu_count': 4,\n  'cpu_model': 'Intel(R) Core(TM) i7-7600U CPU @ 2.80GHz',\n  'gpu_count': nan,\n  'gpu_model': nan,\n  'longitude': 73.2043,\n  'latitude': 22.3008,\n  'ram_total_size': 19.2785110473633,\n  'tracking_mode': 'machine',\n  'on_cloud': 'N',\n  'pue': 1}]"
     },
     "execution_count": 75,
     "metadata": {},
     "output_type": "execute_result"
    }
   ],
   "source": [
    "dd"
   ],
   "metadata": {
    "collapsed": false,
    "ExecuteTime": {
     "end_time": "2023-11-07T06:04:47.591459271Z",
     "start_time": "2023-11-07T06:04:47.578265904Z"
    }
   },
   "id": "c68f50cac733b36a"
  },
  {
   "cell_type": "code",
   "execution_count": null,
   "outputs": [],
   "source": [],
   "metadata": {
    "collapsed": false
   },
   "id": "9cfe7c0157cc0a45"
  }
 ],
 "metadata": {
  "kernelspec": {
   "display_name": "Python 3",
   "language": "python",
   "name": "python3"
  },
  "language_info": {
   "codemirror_mode": {
    "name": "ipython",
    "version": 2
   },
   "file_extension": ".py",
   "mimetype": "text/x-python",
   "name": "python",
   "nbconvert_exporter": "python",
   "pygments_lexer": "ipython2",
   "version": "2.7.6"
  }
 },
 "nbformat": 4,
 "nbformat_minor": 5
}
